{
 "cells": [
  {
   "cell_type": "code",
   "execution_count": null,
   "metadata": {},
   "outputs": [],
   "source": []
  }
 ],
 "metadata": {
  "kernelspec": {
   "display_name": "Python 3.10.5 64-bit",
   "name": "python3105jvsc74a57bd0aefa758e79483c0a4e818e197668bb671ce20d8e4b9741f55d6e6877a24eddda"
  },
  "language_info": {
   "name": "python",
   "version": ""
  },
  "metadata": {
   "interpreter": {
    "hash": "aefa758e79483c0a4e818e197668bb671ce20d8e4b9741f55d6e6877a24eddda"
   }
  },
  "orig_nbformat": 2
 },
 "nbformat": 4,
 "nbformat_minor": 2
}